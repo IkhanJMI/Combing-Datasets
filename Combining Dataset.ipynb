{
 "cells": [
  {
   "cell_type": "code",
   "execution_count": 4,
   "id": "5422c996",
   "metadata": {},
   "outputs": [],
   "source": [
    "import pandas as pd\n",
    "\n",
    "# Load the two datasets into Pandas DataFrames\n",
    "file_path = r'C:\\Users\\atifi\\OneDrive\\Desktop\\Farmer.csv'\n",
    "df1 = pd.read_csv(file_path)\n",
    "\n",
    "file_path = r'C:\\Users\\atifi\\OneDrive\\Desktop\\Soil.csv'\n",
    "df2 = pd.read_csv(file_path)\n"
   ]
  },
  {
   "cell_type": "code",
   "execution_count": 6,
   "id": "3f2290cd",
   "metadata": {},
   "outputs": [
    {
     "name": "stdout",
     "output_type": "stream",
     "text": [
      "              Name  Aadhar ID\n",
      "0      Oslo.Gellar       9134\n",
      "1       Adam Smith       5624\n",
      "2   Raghuram Rajan       1876\n",
      "3  Friedman-Milton       5491\n",
      "4        Karl MARX       3189\n"
     ]
    }
   ],
   "source": [
    "print(df1.head())"
   ]
  },
  {
   "cell_type": "code",
   "execution_count": 7,
   "id": "b0041b7b",
   "metadata": {},
   "outputs": [
    {
     "name": "stdout",
     "output_type": "stream",
     "text": [
      "              Name  Aadhar ID        Soil\n",
      "0   Raghuram Rajan       1876         Dry\n",
      "1        Karl Marx       3189     Igneous\n",
      "2      Oslo Geller       9134  Dry Barren\n",
      "3  Milton Friedmon       5491     Igneous\n",
      "4       Adam Smith       5624         Dry\n"
     ]
    }
   ],
   "source": [
    "print(df2.head())"
   ]
  },
  {
   "cell_type": "code",
   "execution_count": 9,
   "id": "60ae3022",
   "metadata": {},
   "outputs": [],
   "source": [
    "# Data Cleaning: Standardize Aadhar IDs\n",
    "df1['Aadhar ID'] = df1['Aadhar ID'].astype(str).str.replace('\\.0', '', regex=True)\n",
    "df2['Aadhar ID'] = df2['Aadhar ID'].astype(str).str.replace('\\.0', '', regex=True)"
   ]
  },
  {
   "cell_type": "code",
   "execution_count": 11,
   "id": "3d24db87",
   "metadata": {},
   "outputs": [],
   "source": [
    "# Merge datasets based on Aadhar IDs\n",
    "merged_df = pd.merge(df1, df2, on='Aadhar ID', how='inner')"
   ]
  },
  {
   "cell_type": "code",
   "execution_count": 12,
   "id": "9b492c63",
   "metadata": {},
   "outputs": [
    {
     "name": "stdout",
     "output_type": "stream",
     "text": [
      "            Name_x Aadhar ID           Name_y        Soil\n",
      "0      Oslo.Gellar      9134      Oslo Geller  Dry Barren\n",
      "1       Adam Smith      5624       Adam Smith         Dry\n",
      "2   Raghuram Rajan      1876   Raghuram Rajan         Dry\n",
      "3  Friedman-Milton      5491  Milton Friedmon     Igneous\n",
      "4        Karl MARX      3189        Karl Marx     Igneous\n"
     ]
    }
   ],
   "source": [
    "print(merged_df.head())"
   ]
  },
  {
   "cell_type": "code",
   "execution_count": 13,
   "id": "0448449c",
   "metadata": {},
   "outputs": [],
   "source": [
    "# Save the combined dataset to a new CSV file\n",
    "merged_df.to_csv(r'C:\\Users\\atifi\\OneDrive\\Desktop\\combined_dataset.csv', index=False)"
   ]
  },
  {
   "cell_type": "code",
   "execution_count": null,
   "id": "09b15784",
   "metadata": {},
   "outputs": [],
   "source": []
  }
 ],
 "metadata": {
  "kernelspec": {
   "display_name": "Python 3 (ipykernel)",
   "language": "python",
   "name": "python3"
  },
  "language_info": {
   "codemirror_mode": {
    "name": "ipython",
    "version": 3
   },
   "file_extension": ".py",
   "mimetype": "text/x-python",
   "name": "python",
   "nbconvert_exporter": "python",
   "pygments_lexer": "ipython3",
   "version": "3.11.5"
  }
 },
 "nbformat": 4,
 "nbformat_minor": 5
}
